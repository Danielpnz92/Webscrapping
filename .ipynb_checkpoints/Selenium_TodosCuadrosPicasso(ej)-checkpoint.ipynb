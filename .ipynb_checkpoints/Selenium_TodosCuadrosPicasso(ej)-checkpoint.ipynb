{
 "cells": [
  {
   "cell_type": "code",
   "execution_count": 18,
   "metadata": {},
   "outputs": [],
   "source": [
    "import requests\n",
    "from time import sleep, strftime\n",
    "import random\n",
    "from random import randint\n",
    "from bs4 import BeautifulSoup\n",
    "from selenium import webdriver\n",
    "import shutil\n",
    "import pickle"
   ]
  },
  {
   "cell_type": "code",
   "execution_count": 19,
   "metadata": {},
   "outputs": [],
   "source": [
    "#Driver de chrome \n",
    "chrome_driver = r\"/Users/adrian/OneDrive - Instituto Politecnico Nacional/Bootcamp 1-2020/13. Web Scraping (beautifulsoup y selenium)/02. Selenium/chromedriver\""
   ]
  },
  {
   "cell_type": "code",
   "execution_count": 20,
   "metadata": {},
   "outputs": [],
   "source": [
    "navegador = webdriver.Chrome(executable_path=chrome_driver)"
   ]
  },
  {
   "cell_type": "code",
   "execution_count": 21,
   "metadata": {},
   "outputs": [],
   "source": [
    "navegador.get(\"https://www.todocuadros.es/\") "
   ]
  },
  {
   "cell_type": "code",
   "execution_count": 22,
   "metadata": {},
   "outputs": [],
   "source": [
    "sleep(randint(2,5))\n",
    "navegador.find_element_by_partial_link_text('Cuenta').click()"
   ]
  },
  {
   "cell_type": "code",
   "execution_count": 23,
   "metadata": {},
   "outputs": [],
   "source": [
    "sleep(randint(2,5))\n",
    "navegador.find_element_by_link_text('Acceder').click()"
   ]
  },
  {
   "cell_type": "code",
   "execution_count": 24,
   "metadata": {},
   "outputs": [],
   "source": [
    "fh=open('pass-Selenium1.pkl','bw')\n",
    "pickle.dump(\"NEOLAND2020\",fh)\n",
    "fh.close()"
   ]
  },
  {
   "cell_type": "code",
   "execution_count": 25,
   "metadata": {},
   "outputs": [],
   "source": [
    "fh=open('pass-Selenium1.pkl','rb')\n",
    "Contraseña=pickle.load(fh)\n",
    "fh.close()"
   ]
  },
  {
   "cell_type": "code",
   "execution_count": 26,
   "metadata": {},
   "outputs": [],
   "source": [
    "Email = \"adrianceja1@gmail.com\"\n",
    "\n",
    "usuario = navegador.find_element_by_id('email')\n",
    "usuario.send_keys(Email)\n",
    "\n",
    "sleep(randint(2,5))\n",
    "\n",
    "contra = navegador.find_element_by_id('pass')\n",
    "contra.send_keys(Contraseña)\n",
    "\n",
    "sleep(randint(2,5))\n",
    "\n",
    "usuario.submit()"
   ]
  },
  {
   "cell_type": "code",
   "execution_count": 27,
   "metadata": {},
   "outputs": [],
   "source": [
    "sleep(randint(2,5))\n",
    "busq = navegador.find_element_by_id(\"search\")\n",
    "busq.send_keys(\"Pablo Picasso\")\n",
    "sleep(randint(2,5))\n",
    "busq.submit()"
   ]
  },
  {
   "cell_type": "code",
   "execution_count": 29,
   "metadata": {},
   "outputs": [],
   "source": [
    "source = navegador.page_source"
   ]
  },
  {
   "cell_type": "code",
   "execution_count": 30,
   "metadata": {},
   "outputs": [],
   "source": [
    "soup = BeautifulSoup(source)"
   ]
  },
  {
   "cell_type": "code",
   "execution_count": 31,
   "metadata": {},
   "outputs": [
    {
     "data": {
      "text/plain": [
       "'Mesa frente a Ventana'"
      ]
     },
     "execution_count": 31,
     "metadata": {},
     "output_type": "execute_result"
    }
   ],
   "source": [
    "soup.find_all(\"span\", class_=\"snize-overhidden\")[0].find(\"span\").text"
   ]
  },
  {
   "cell_type": "code",
   "execution_count": 32,
   "metadata": {},
   "outputs": [
    {
     "name": "stdout",
     "output_type": "stream",
     "text": [
      "Mesa frente a Ventana\n",
      "Mujer con Peras\n",
      "La Amistad\n",
      "El Descanso\n",
      "Desnudo y Naturaleza Muerta\n",
      "Niña Frente al Espejo\n",
      "La Lección\n",
      "Niño con Paloma\n",
      "El Sueño\n",
      "Paisaje Mediterráneo\n",
      "Las Señoritas de Avignon\n",
      "Retrato de Dora Maar\n",
      "Homenaje a Picasso\n",
      "Visión del Apocalipsis\n"
     ]
    }
   ],
   "source": [
    "cuad=[]\n",
    "for i in range(len(soup.find_all(\"span\", class_=\"snize-overhidden\"))):\n",
    "    print(soup.find_all(\"span\", class_=\"snize-overhidden\")[i].find(\"span\").text)\n",
    "    cuad.append(soup.find_all(\"span\", class_=\"snize-overhidden\")[i].find(\"span\").text)"
   ]
  },
  {
   "cell_type": "code",
   "execution_count": 19,
   "metadata": {},
   "outputs": [
    {
     "data": {
      "text/plain": [
       "'Mesa frente a Ventana'"
      ]
     },
     "execution_count": 19,
     "metadata": {},
     "output_type": "execute_result"
    }
   ],
   "source": [
    "(cuad)"
   ]
  },
  {
   "cell_type": "code",
   "execution_count": 20,
   "metadata": {},
   "outputs": [],
   "source": [
    "sleep(4)\n",
    "navegador.find_element_by_partial_link_text(cuad[1]).click()"
   ]
  },
  {
   "cell_type": "code",
   "execution_count": null,
   "metadata": {},
   "outputs": [],
   "source": [
    "#<img itemprop=\"image\" src=\"https://www.todocuadros.es/media/catalog/product/cache/10/image/342x490/a4b764e5482f62fb51dae89ed3917009/p/i/picasso-mesa-ventana.jpg\" alt=\"Mesa frente a Ventana\">\n",
    "#<img src=\"https://www.todocuadros.es/media/catalog/product/cache/10/small_image/300x300/040ec09b1e35df139433887a97daa66f/p/i/picasso-mesa-ventana.jpg\" class=\"snize-item-image\" alt=\"Mesa frente a Ventana\" border=\"0\">"
   ]
  },
  {
   "cell_type": "code",
   "execution_count": 21,
   "metadata": {},
   "outputs": [],
   "source": [
    "soup = BeautifulSoup(navegador.page_source)"
   ]
  },
  {
   "cell_type": "code",
   "execution_count": 23,
   "metadata": {},
   "outputs": [
    {
     "data": {
      "text/plain": [
       "'https://www.todocuadros.es/media/catalog/product/cache/10/image/d7e334e937074b0c9e4540c5d6ff7b5f/p/i/picasso-mujer-peras.jpg'"
      ]
     },
     "execution_count": 23,
     "metadata": {},
     "output_type": "execute_result"
    }
   ],
   "source": [
    "img_cuadro = soup.find(\"div\", class_=\"magic-slide mt-active\").find(\"a\")[\"href\"]\n",
    "img_cuadro"
   ]
  },
  {
   "cell_type": "code",
   "execution_count": 24,
   "metadata": {},
   "outputs": [],
   "source": [
    "resp = requests.get(img_cuadro, stream=True)"
   ]
  },
  {
   "cell_type": "code",
   "execution_count": 25,
   "metadata": {},
   "outputs": [
    {
     "data": {
      "text/plain": [
       "<Response [200]>"
      ]
     },
     "execution_count": 25,
     "metadata": {},
     "output_type": "execute_result"
    }
   ],
   "source": [
    "resp"
   ]
  },
  {
   "cell_type": "code",
   "execution_count": 26,
   "metadata": {},
   "outputs": [],
   "source": [
    "imagenpicasso = open('piccaso222.jpg', 'wb')"
   ]
  },
  {
   "cell_type": "code",
   "execution_count": 27,
   "metadata": {},
   "outputs": [],
   "source": [
    "#imagenpicasso = open('piccaso1.jpg', 'wb')\n",
    "resp.raw.decode_content = True\n",
    "shutil.copyfileobj(resp.raw, imagenpicasso)\n",
    "imagenpicasso.close()"
   ]
  },
  {
   "cell_type": "code",
   "execution_count": 28,
   "metadata": {},
   "outputs": [],
   "source": [
    "navegador.quit()"
   ]
  },
  {
   "cell_type": "code",
   "execution_count": null,
   "metadata": {},
   "outputs": [],
   "source": []
  }
 ],
 "metadata": {
  "kernelspec": {
   "display_name": "Python 3",
   "language": "python",
   "name": "python3"
  },
  "language_info": {
   "codemirror_mode": {
    "name": "ipython",
    "version": 3
   },
   "file_extension": ".py",
   "mimetype": "text/x-python",
   "name": "python",
   "nbconvert_exporter": "python",
   "pygments_lexer": "ipython3",
   "version": "3.8.5"
  }
 },
 "nbformat": 4,
 "nbformat_minor": 4
}
