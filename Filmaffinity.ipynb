{
 "cells": [
  {
   "cell_type": "code",
   "execution_count": 45,
   "metadata": {},
   "outputs": [
    {
     "name": "stdout",
     "output_type": "stream",
     "text": [
      "<Response [200]>\n",
      "True\n"
     ]
    }
   ],
   "source": [
    "import requests\n",
    "import numpy as np\n",
    "import pandas as pd\n",
    "from bs4 import BeautifulSoup\n",
    "\n",
    "### get response\n",
    "response = requests.get('https://www.google.com/')\n",
    "\n",
    "#Que obtengo?\n",
    "print(response)\n",
    "print(bool(response)) #Un boleano con se pudo acceder a la red "
   ]
  },
  {
   "cell_type": "code",
   "execution_count": 3,
   "metadata": {},
   "outputs": [
    {
     "name": "stdout",
     "output_type": "stream",
     "text": [
      "True\n"
     ]
    }
   ],
   "source": [
    "url = \"https://www.filmaffinity.com/es/topcat.php?id=new_th_es\"\n",
    "\n",
    "response = requests.get(url)\n",
    "print(bool(response))\n",
    "soup = BeautifulSoup(response.text, \"html.parser\") #En la variable soup voy a tener toda la página web en html"
   ]
  },
  {
   "cell_type": "code",
   "execution_count": 10,
   "metadata": {},
   "outputs": [
    {
     "data": {
      "text/plain": [
       "<div class=\"movie-card mc-flex movie-card-22\" data-movie-id=\"750283\">\n",
       "<div class=\"mc-left\">\n",
       "<div class=\"mc-poster\">\n",
       "<a href=\"https://www.filmaffinity.com/es/film750283.html\" title=\"El señor de los anillos: La comunidad del anillo \"><img alt=\"El señor de los anillos: La comunidad del anillo \" height=\"147\" src=\"https://pics.filmaffinity.com/the_lord_of_the_rings_the_fellowship_of_the_ring-952398002-msmall.jpg\" width=\"100\"/></a>\n",
       "</div>\n",
       "<div class=\"duration\">\n",
       "<i class=\"far fa-clock\"></i> 180 min.            </div>\n",
       "<div class=\"pos\">1</div>\n",
       "</div>\n",
       "<div class=\"mc-right\">\n",
       "<h3><a href=\"https://www.filmaffinity.com/es/film750283.html\" title=\"El señor de los anillos: La comunidad del anillo \">El señor de los anillos: La comunidad del anillo </a></h3>\n",
       "<div class=\"mc-right-content\">\n",
       "<div class=\"mc-data\">\n",
       "<div>2001 <img alt=\"Nueva Zelanda\" class=\"nflag\" src=\"/imgs/countries2/NZ.png\" title=\"Nueva Zelanda\"/></div>\n",
       "<div class=\"synop\">\n",
       "<a class=\"genre\" href=\"https://www.filmaffinity.com/es/moviegenre.php?genre=FAN&amp;attr=rat_count&amp;nodoc\" title=\"Fantástico\">Fantástico</a>\n",
       "<a class=\"synop-text\" href=\"https://www.filmaffinity.com/es/film750283.html\" title=\"See full card\">En la Tierra Media, el Señor Oscuro Sauron ordenó a los Elfos que forjaran los Grandes Anillos de Poder. Tres para los reyes Elfos, siete para los Señores Enanos, y nueve para los Hombres Mortales. ... <span id=\"link-full-sinop\"><a href=\"https://www.filmaffinity.com/es/film750283.html\">[+]</a></span></a>\n",
       "</div>\n",
       "<div class=\"director\">\n",
       "<div class=\"credits\"><span class=\"nb\"><a href=\"https://www.filmaffinity.com/es/search.php?stype=director&amp;sn&amp;stext=Peter%20Jackson\" title=\"Peter Jackson\">Peter Jackson</a></span></div> </div>\n",
       "<div class=\"cast\">\n",
       "<div class=\"credits\"><span class=\"nb\"><a href=\"https://www.filmaffinity.com/es/search.php?stype=cast&amp;sn&amp;stext=Elijah%20Wood\" title=\"Elijah Wood\">Elijah Wood</a>,</span> <span class=\"nb\"><a href=\"https://www.filmaffinity.com/es/search.php?stype=cast&amp;sn&amp;stext=Ian%20McKellen\" title=\"Ian McKellen\">Ian McKellen</a>,</span> <span class=\"nb\"><a href=\"https://www.filmaffinity.com/es/search.php?stype=cast&amp;sn&amp;stext=Viggo%20Mortensen\" title=\"Viggo Mortensen\">Viggo Mortensen</a></span></div> </div>\n",
       "</div>\n",
       "<div class=\"mc-actions\">\n",
       "<a class=\"mc-action youtube\" data-code='&lt;iframe frameborder=\"0\" width=\"1280\" height=\"720\" allowfullscreen src=\"https://www.dailymotion.com/embed/video/x7u4l6l?queue-enable=false&amp;amp;autoplay=true\"&gt;&lt;/iframe&gt;' href=\"\"><i class=\"fab fa-youtube\"></i> Trailer</a>\n",
       "<a class=\"mc-action\" href=\"https://www.filmaffinity.com/es/cityTheaters.php?movie_id=750283\"><i class=\"fas fa-ticket-alt\"></i> Cines <span class=\"badge\">179</span></a>\n",
       "<a class=\"mc-action\" href=\"https://www.filmaffinity.com/es/buymovie.php?movie_id=750283\"><i class=\"fas fa-shopping-basket\"></i> Ver | comprar</a>\n",
       "</div>\n",
       "<div class=\"stats\">\n",
       "<div class=\"avg-rating\">8,0</div>\n",
       "<div class=\"rat-count\">\n",
       "<div><i class=\"fa fa-simple-user-o-fa\"></i></div>188.636                        </div>\n",
       "</div>\n",
       "</div>\n",
       "</div>\n",
       "<div class=\"lists-box\"></div>\n",
       "</div>"
      ]
     },
     "execution_count": 10,
     "metadata": {},
     "output_type": "execute_result"
    }
   ],
   "source": [
    "pelis=soup.find_all(\"div\", class_=\"movie-card mc-flex movie-card-22\")\n",
    "pelis[0]\n"
   ]
  },
  {
   "cell_type": "code",
   "execution_count": 14,
   "metadata": {},
   "outputs": [
    {
     "data": {
      "text/plain": [
       "'El señor de los anillos: La comunidad del anillo '"
      ]
     },
     "execution_count": 14,
     "metadata": {},
     "output_type": "execute_result"
    }
   ],
   "source": [
    "#titulo\n",
    "pelis[0].find(\"a\")[\"title\"]"
   ]
  },
  {
   "cell_type": "code",
   "execution_count": 58,
   "metadata": {},
   "outputs": [
    {
     "data": {
      "text/plain": [
       "'180'"
      ]
     },
     "execution_count": 58,
     "metadata": {},
     "output_type": "execute_result"
    }
   ],
   "source": [
    "#duration\n",
    "int(pelis[0].find_all(\"div\", class_=\"duration\")[0].text.replace(\"min.\",\"\").strip())"
   ]
  },
  {
   "cell_type": "code",
   "execution_count": 25,
   "metadata": {},
   "outputs": [
    {
     "data": {
      "text/plain": [
       "'1'"
      ]
     },
     "execution_count": 25,
     "metadata": {},
     "output_type": "execute_result"
    }
   ],
   "source": [
    "#posicion\n",
    "pelis[0].find_all(\"div\", class_=\"pos\")[0].text"
   ]
  },
  {
   "cell_type": "code",
   "execution_count": 26,
   "metadata": {},
   "outputs": [
    {
     "data": {
      "text/plain": [
       "'Fantástico'"
      ]
     },
     "execution_count": 26,
     "metadata": {},
     "output_type": "execute_result"
    }
   ],
   "source": [
    "#categoría\n",
    "pelis[0].find_all(\"a\", class_=\"genre\")[0].text"
   ]
  },
  {
   "cell_type": "code",
   "execution_count": 27,
   "metadata": {},
   "outputs": [
    {
     "data": {
      "text/plain": [
       "'Peter Jackson'"
      ]
     },
     "execution_count": 27,
     "metadata": {},
     "output_type": "execute_result"
    }
   ],
   "source": [
    "#director\n",
    "pelis[0].find_all(\"div\", class_=\"credits\")[0].text"
   ]
  },
  {
   "cell_type": "code",
   "execution_count": 55,
   "metadata": {},
   "outputs": [
    {
     "data": {
      "text/plain": [
       "8.0"
      ]
     },
     "execution_count": 55,
     "metadata": {},
     "output_type": "execute_result"
    }
   ],
   "source": [
    "#puntuación\n",
    "float(pelis[0].find_all(\"div\", class_=\"avg-rating\")[0].text.replace(\",\",\".\"))"
   ]
  },
  {
   "cell_type": "code",
   "execution_count": 53,
   "metadata": {},
   "outputs": [
    {
     "data": {
      "text/plain": [
       "188636"
      ]
     },
     "execution_count": 53,
     "metadata": {},
     "output_type": "execute_result"
    }
   ],
   "source": [
    "#num. votaciones\n",
    "int(pelis[0].find_all(\"div\", class_=\"rat-count\")[0].text.strip().replace(\".\",\"\"))"
   ]
  },
  {
   "cell_type": "code",
   "execution_count": 40,
   "metadata": {},
   "outputs": [
    {
     "ename": "IndexError",
     "evalue": "list index out of range",
     "output_type": "error",
     "traceback": [
      "\u001b[1;31m---------------------------------------------------------------------------\u001b[0m",
      "\u001b[1;31mIndexError\u001b[0m                                Traceback (most recent call last)",
      "\u001b[1;32m<ipython-input-40-e7193732f6d7>\u001b[0m in \u001b[0;36m<module>\u001b[1;34m\u001b[0m\n\u001b[0;32m      1\u001b[0m \u001b[1;31m#casting\u001b[0m\u001b[1;33m\u001b[0m\u001b[1;33m\u001b[0m\u001b[1;33m\u001b[0m\u001b[0m\n\u001b[1;32m----> 2\u001b[1;33m \u001b[0mpelis\u001b[0m\u001b[1;33m[\u001b[0m\u001b[1;36m3\u001b[0m\u001b[1;33m]\u001b[0m\u001b[1;33m.\u001b[0m\u001b[0mfind_all\u001b[0m\u001b[1;33m(\u001b[0m\u001b[1;34m\"div\"\u001b[0m\u001b[1;33m,\u001b[0m \u001b[0mclass_\u001b[0m\u001b[1;33m=\u001b[0m\u001b[1;34m\"credits\"\u001b[0m\u001b[1;33m)\u001b[0m\u001b[1;33m[\u001b[0m\u001b[1;36m1\u001b[0m\u001b[1;33m]\u001b[0m\u001b[1;33m.\u001b[0m\u001b[0mtext\u001b[0m\u001b[1;33m\u001b[0m\u001b[1;33m\u001b[0m\u001b[0m\n\u001b[0m",
      "\u001b[1;31mIndexError\u001b[0m: list index out of range"
     ]
    }
   ],
   "source": [
    "#casting\n",
    "pelis[3].find_all(\"div\", class_=\"credits\")[1].text"
   ]
  },
  {
   "cell_type": "code",
   "execution_count": 61,
   "metadata": {},
   "outputs": [
    {
     "name": "stdout",
     "output_type": "stream",
     "text": [
      "['El señor de los anillos: La comunidad del anillo ', 180, 1, 'Fantástico', 'Peter Jackson', 8.0, 188636, 'Elijah Wood, Ian McKellen, Viggo Mortensen']\n",
      "['El padre ', 97, 2, 'Drama', 'Florian Zeller', 7.8, 6514, 'Anthony Hopkins, Olivia Colman, Imogen Poots']\n",
      "['Charulata. La esposa solitaria ', 124, 3, 'Drama', 'Satyajit Ray', 7.6, 499, 'Madhabi Mukherjee, Sailen Mukherjee, Soumitra Chatterjee']\n",
      "['Guardianes de la noche: Tren infinito ', 117, 4, 'Animación', 'Haruo Sotozaki', 7.6, 698, nan]\n",
      "['Digimon Adventure: Last Evolution Kizuna ', 95, 5, 'Animación', 'Tomohisa Taguchi', 7.3, 325, nan]\n",
      "['Crock of Gold: Bebiendo con Shane MacGowan ', 124, 6, 'Documental', 'Julien Temple', 7.3, 218, ' intervenciones de: Shane MacGowan']\n",
      "['Otra ronda ', 116, 7, 'Drama', 'Thomas Vinterberg', 7.3, 7301, 'Mads Mikkelsen, Thomas Bo Larsen, Magnus Millang']\n",
      "['El agente topo ', 84, 8, 'Documental', 'Maite Alberdi', 7.2, 1872, ' intervenciones de: Sergio Chamy, Rómulo Aitken, Marta Olivares']\n",
      "['Una joven prometedora ', 113, 9, 'Thriller', 'Emerald Fennell', 7.0, 7009, 'Carey Mulligan, Bo Burnham, Alison Brie']\n",
      "['Nomadland ', 108, 10, 'Drama', 'Chloé Zhao', 6.9, 12029, 'Frances McDormand, David Strathairn, Linda May']\n",
      "['Minari. Historia de mi familia ', 115, 11, 'Drama', 'Lee Isaac Chung', 6.9, 4508, 'Steven Yeun, Han Ye-ri , Youn Yuh-jung']\n",
      "['Solo las bestias ', 117, 12, 'Intriga', 'Dominik Moll', 6.8, 614, 'Denis Menochet, Valeria Bruni Tedeschi, Laure Calamy']\n",
      "['Raya y el último dragón ', 114, 13, 'Animación', 'Don Hall, Carlos López Estrada, Paul Briggs', 6.8, 4182, nan]\n",
      "['El verano de Cody ', 83, 14, 'Drama', 'Andrew Ahn', 6.6, 123, 'Hong Chau, Lucas Jaye, Brian Dennehy']\n",
      "['Mank ', 132, 15, 'Drama', 'David Fincher', 6.5, 9250, 'Gary Oldman, Amanda Seyfried, Arliss Howard']\n",
      "['La nube ', 100, 16, 'Fantástico', 'Just Philippot', 6.5, 170, 'Suliane Brahim, Nathalie Boyer, Marie Narbonne']\n",
      "['Detective Conan: La bala escarlata ', 110, 17, 'Animación', 'Tomoka Nagaoka', 6.4, 59, nan]\n",
      "['Nadie ', 92, 18, 'Thriller', 'Ilya Naishuller', 6.4, 1788, 'Bob Odenkirk, Aleksey Serebryakov, Connie Nielsen']\n",
      "['El informe Auschwitz ', 94, 19, 'Drama', 'Peter Bebjak', 6.4, 172, 'Noël Czuczor, Peter Ondrejicka, Wojciech Mecwaldowski']\n",
      "['Cuñados ', 95, 20, 'Comedia', 'Toño López', 6.4, 185, 'Xosé A. Touriñán, Miguel de Lira, Federico Pérez']\n",
      "['Wildland ', 88, 21, 'Thriller', 'Jeanette Nordahl', 6.3, 208, 'Sandra Guldberg Kampp, Sidse Babett Knudsen, Joachim Fjelstrup']\n",
      "['Las niñas ', 100, 22, 'Drama', 'Pilar Palomero', 6.3, 9094, 'Andrea Fandós, Natalia de Molina, Carlota Gurpegui']\n",
      "['Los Croods: Una nueva era ', 95, 23, 'Animación', 'Joel Crawford', 6.2, 1306, nan]\n",
      "['Yalda, la noche del perdón ', 89, 24, 'Drama', 'Massoud Bakhshi', 6.2, 58, 'Sadaf Asgari, Zakieh Behbahani, Arman Darvish']\n",
      "['El fotógrafo de Minamata ', 115, 25, 'Drama', 'Andrew Levitas', 5.9, 65, 'Johnny Depp, Bill Nighy, Hiroyuki Sanada']\n",
      "['Mamá María ', 104, 26, 'Comedia', 'Jean-Paul Salomé', 5.8, 160, 'Isabelle Huppert, Hippolyte Girardot, Liliane Rovère']\n",
      "['Los traductores ', 105, 27, 'Intriga', 'Régis Roinsard', 5.8, 421, 'Lambert Wilson, Olga Kurylenko, Riccardo Scamarcio']\n",
      "['Una veterinaria en la Borgoña ', 92, 28, 'Comedia', 'Julie Manoukian', 5.7, 86, 'Clovis Cornillac, Noémie Schmidt, Lilou Fogli']\n",
      "['Pequeños detalles ', 127, 29, 'Thriller', 'John Lee Hancock', 5.7, 2737, 'Denzel Washington, Rami Malek, Jared Leto']\n",
      "['Godzilla vs. Kong ', 113, 30, 'Acción', 'Adam Wingard', 5.5, 5047, 'Alexander Skarsgård, Rebecca Hall, Demian Bichir']\n",
      "['Maléfica: Maestra del mal ', 118, 31, 'Fantástico', 'Joachim Rønning', 5.4, 6659, 'Angelina Jolie, Michelle Pfeiffer, Elle Fanning']\n",
      "['Mortal Kombat ', 110, 32, 'Acción', 'Simon McQuoid', 5.4, 2238, 'Lewis Tan, Joe Taslim, Jessica McNamee']\n",
      "['Crónica de una tormenta ', 85, 33, 'Drama', 'Mariana Barassi', 5.0, 235, 'Clara Lago, Ernesto Alterio, Quique Fernández']\n",
      "['Earwig y la bruja ', 82, 34, 'Animación', 'Goro Miyazaki', 4.8, 92, nan]\n",
      "['Chaos Walking ', 109, 35, 'Ciencia ficción', 'Doug Liman', 4.7, 523, 'Daisy Ridley, Tom Holland, Mads Mikkelsen']\n",
      "['Península ', 116, 36, 'Terror', 'Yeon Sang-ho', 4.7, 2011, 'Gang Dong-won , Lee Jung-hyun, Lee Re']\n",
      "['En guerra con mi abuelo ', 94, 37, 'Comedia', 'Tim Hill', 4.6, 1299, 'Robert De Niro, Oakes Fegley, Uma Thurman']\n",
      "['Monster Hunter ', 103, 38, 'Fantástico', 'Paul W.S. Anderson', 4.4, 2121, 'Milla Jovovich, Tony Jaa, Tip Harris']\n",
      "['Tom y Jerry ', 101, 39, 'Animación', 'Tim Story', 4.4, 448, 'Chloë Grace Moretz, Michael Peña, Rob Delaney']\n",
      "['Ruega por nosotros ', 99, 40, 'Terror', 'Evan Spiliotopoulos', 4.4, 363, 'Jeffrey Dean Morgan, Cricket Brown, Cary Elwes']\n"
     ]
    },
    {
     "data": {
      "text/plain": [
       "[['El señor de los anillos: La comunidad del anillo ',\n",
       "  180,\n",
       "  1,\n",
       "  'Fantástico',\n",
       "  'Peter Jackson',\n",
       "  8.0,\n",
       "  188636,\n",
       "  'Elijah Wood, Ian McKellen, Viggo Mortensen'],\n",
       " ['El padre ',\n",
       "  97,\n",
       "  2,\n",
       "  'Drama',\n",
       "  'Florian Zeller',\n",
       "  7.8,\n",
       "  6514,\n",
       "  'Anthony Hopkins, Olivia Colman, Imogen Poots'],\n",
       " ['Charulata. La esposa solitaria ',\n",
       "  124,\n",
       "  3,\n",
       "  'Drama',\n",
       "  'Satyajit Ray',\n",
       "  7.6,\n",
       "  499,\n",
       "  'Madhabi Mukherjee, Sailen Mukherjee, Soumitra Chatterjee'],\n",
       " ['Guardianes de la noche: Tren infinito ',\n",
       "  117,\n",
       "  4,\n",
       "  'Animación',\n",
       "  'Haruo Sotozaki',\n",
       "  7.6,\n",
       "  698,\n",
       "  nan],\n",
       " ['Digimon Adventure: Last Evolution Kizuna ',\n",
       "  95,\n",
       "  5,\n",
       "  'Animación',\n",
       "  'Tomohisa Taguchi',\n",
       "  7.3,\n",
       "  325,\n",
       "  nan],\n",
       " ['Crock of Gold: Bebiendo con Shane MacGowan ',\n",
       "  124,\n",
       "  6,\n",
       "  'Documental',\n",
       "  'Julien Temple',\n",
       "  7.3,\n",
       "  218,\n",
       "  ' intervenciones de: Shane MacGowan'],\n",
       " ['Otra ronda ',\n",
       "  116,\n",
       "  7,\n",
       "  'Drama',\n",
       "  'Thomas Vinterberg',\n",
       "  7.3,\n",
       "  7301,\n",
       "  'Mads Mikkelsen, Thomas Bo Larsen, Magnus Millang'],\n",
       " ['El agente topo ',\n",
       "  84,\n",
       "  8,\n",
       "  'Documental',\n",
       "  'Maite Alberdi',\n",
       "  7.2,\n",
       "  1872,\n",
       "  ' intervenciones de: Sergio Chamy, Rómulo Aitken, Marta Olivares'],\n",
       " ['Una joven prometedora ',\n",
       "  113,\n",
       "  9,\n",
       "  'Thriller',\n",
       "  'Emerald Fennell',\n",
       "  7.0,\n",
       "  7009,\n",
       "  'Carey Mulligan, Bo Burnham, Alison Brie'],\n",
       " ['Nomadland ',\n",
       "  108,\n",
       "  10,\n",
       "  'Drama',\n",
       "  'Chloé Zhao',\n",
       "  6.9,\n",
       "  12029,\n",
       "  'Frances McDormand, David Strathairn, Linda May'],\n",
       " ['Minari. Historia de mi familia ',\n",
       "  115,\n",
       "  11,\n",
       "  'Drama',\n",
       "  'Lee Isaac Chung',\n",
       "  6.9,\n",
       "  4508,\n",
       "  'Steven Yeun, Han Ye-ri , Youn Yuh-jung'],\n",
       " ['Solo las bestias ',\n",
       "  117,\n",
       "  12,\n",
       "  'Intriga',\n",
       "  'Dominik Moll',\n",
       "  6.8,\n",
       "  614,\n",
       "  'Denis Menochet, Valeria Bruni Tedeschi, Laure Calamy'],\n",
       " ['Raya y el último dragón ',\n",
       "  114,\n",
       "  13,\n",
       "  'Animación',\n",
       "  'Don Hall, Carlos López Estrada, Paul Briggs',\n",
       "  6.8,\n",
       "  4182,\n",
       "  nan],\n",
       " ['El verano de Cody ',\n",
       "  83,\n",
       "  14,\n",
       "  'Drama',\n",
       "  'Andrew Ahn',\n",
       "  6.6,\n",
       "  123,\n",
       "  'Hong Chau, Lucas Jaye, Brian Dennehy'],\n",
       " ['Mank ',\n",
       "  132,\n",
       "  15,\n",
       "  'Drama',\n",
       "  'David Fincher',\n",
       "  6.5,\n",
       "  9250,\n",
       "  'Gary Oldman, Amanda Seyfried, Arliss Howard'],\n",
       " ['La nube ',\n",
       "  100,\n",
       "  16,\n",
       "  'Fantástico',\n",
       "  'Just Philippot',\n",
       "  6.5,\n",
       "  170,\n",
       "  'Suliane Brahim, Nathalie Boyer, Marie Narbonne'],\n",
       " ['Detective Conan: La bala escarlata ',\n",
       "  110,\n",
       "  17,\n",
       "  'Animación',\n",
       "  'Tomoka Nagaoka',\n",
       "  6.4,\n",
       "  59,\n",
       "  nan],\n",
       " ['Nadie ',\n",
       "  92,\n",
       "  18,\n",
       "  'Thriller',\n",
       "  'Ilya Naishuller',\n",
       "  6.4,\n",
       "  1788,\n",
       "  'Bob Odenkirk, Aleksey Serebryakov, Connie Nielsen'],\n",
       " ['El informe Auschwitz ',\n",
       "  94,\n",
       "  19,\n",
       "  'Drama',\n",
       "  'Peter Bebjak',\n",
       "  6.4,\n",
       "  172,\n",
       "  'Noël Czuczor, Peter Ondrejicka, Wojciech Mecwaldowski'],\n",
       " ['Cuñados ',\n",
       "  95,\n",
       "  20,\n",
       "  'Comedia',\n",
       "  'Toño López',\n",
       "  6.4,\n",
       "  185,\n",
       "  'Xosé A. Touriñán, Miguel de Lira, Federico Pérez'],\n",
       " ['Wildland ',\n",
       "  88,\n",
       "  21,\n",
       "  'Thriller',\n",
       "  'Jeanette Nordahl',\n",
       "  6.3,\n",
       "  208,\n",
       "  'Sandra Guldberg Kampp, Sidse Babett Knudsen, Joachim Fjelstrup'],\n",
       " ['Las niñas ',\n",
       "  100,\n",
       "  22,\n",
       "  'Drama',\n",
       "  'Pilar Palomero',\n",
       "  6.3,\n",
       "  9094,\n",
       "  'Andrea Fandós, Natalia de Molina, Carlota Gurpegui'],\n",
       " ['Los Croods: Una nueva era ',\n",
       "  95,\n",
       "  23,\n",
       "  'Animación',\n",
       "  'Joel Crawford',\n",
       "  6.2,\n",
       "  1306,\n",
       "  nan],\n",
       " ['Yalda, la noche del perdón ',\n",
       "  89,\n",
       "  24,\n",
       "  'Drama',\n",
       "  'Massoud Bakhshi',\n",
       "  6.2,\n",
       "  58,\n",
       "  'Sadaf Asgari, Zakieh Behbahani, Arman Darvish'],\n",
       " ['El fotógrafo de Minamata ',\n",
       "  115,\n",
       "  25,\n",
       "  'Drama',\n",
       "  'Andrew Levitas',\n",
       "  5.9,\n",
       "  65,\n",
       "  'Johnny Depp, Bill Nighy, Hiroyuki Sanada'],\n",
       " ['Mamá María ',\n",
       "  104,\n",
       "  26,\n",
       "  'Comedia',\n",
       "  'Jean-Paul Salomé',\n",
       "  5.8,\n",
       "  160,\n",
       "  'Isabelle Huppert, Hippolyte Girardot, Liliane Rovère'],\n",
       " ['Los traductores ',\n",
       "  105,\n",
       "  27,\n",
       "  'Intriga',\n",
       "  'Régis Roinsard',\n",
       "  5.8,\n",
       "  421,\n",
       "  'Lambert Wilson, Olga Kurylenko, Riccardo Scamarcio'],\n",
       " ['Una veterinaria en la Borgoña ',\n",
       "  92,\n",
       "  28,\n",
       "  'Comedia',\n",
       "  'Julie Manoukian',\n",
       "  5.7,\n",
       "  86,\n",
       "  'Clovis Cornillac, Noémie Schmidt, Lilou Fogli'],\n",
       " ['Pequeños detalles ',\n",
       "  127,\n",
       "  29,\n",
       "  'Thriller',\n",
       "  'John Lee Hancock',\n",
       "  5.7,\n",
       "  2737,\n",
       "  'Denzel Washington, Rami Malek, Jared Leto'],\n",
       " ['Godzilla vs. Kong ',\n",
       "  113,\n",
       "  30,\n",
       "  'Acción',\n",
       "  'Adam Wingard',\n",
       "  5.5,\n",
       "  5047,\n",
       "  'Alexander Skarsgård, Rebecca Hall, Demian Bichir'],\n",
       " ['Maléfica: Maestra del mal ',\n",
       "  118,\n",
       "  31,\n",
       "  'Fantástico',\n",
       "  'Joachim Rønning',\n",
       "  5.4,\n",
       "  6659,\n",
       "  'Angelina Jolie, Michelle Pfeiffer, Elle Fanning'],\n",
       " ['Mortal Kombat ',\n",
       "  110,\n",
       "  32,\n",
       "  'Acción',\n",
       "  'Simon McQuoid',\n",
       "  5.4,\n",
       "  2238,\n",
       "  'Lewis Tan, Joe Taslim, Jessica McNamee'],\n",
       " ['Crónica de una tormenta ',\n",
       "  85,\n",
       "  33,\n",
       "  'Drama',\n",
       "  'Mariana Barassi',\n",
       "  5.0,\n",
       "  235,\n",
       "  'Clara Lago, Ernesto Alterio, Quique Fernández'],\n",
       " ['Earwig y la bruja ', 82, 34, 'Animación', 'Goro Miyazaki', 4.8, 92, nan],\n",
       " ['Chaos Walking ',\n",
       "  109,\n",
       "  35,\n",
       "  'Ciencia ficción',\n",
       "  'Doug Liman',\n",
       "  4.7,\n",
       "  523,\n",
       "  'Daisy Ridley, Tom Holland, Mads Mikkelsen'],\n",
       " ['Península ',\n",
       "  116,\n",
       "  36,\n",
       "  'Terror',\n",
       "  'Yeon Sang-ho',\n",
       "  4.7,\n",
       "  2011,\n",
       "  'Gang Dong-won , Lee Jung-hyun, Lee Re'],\n",
       " ['En guerra con mi abuelo ',\n",
       "  94,\n",
       "  37,\n",
       "  'Comedia',\n",
       "  'Tim Hill',\n",
       "  4.6,\n",
       "  1299,\n",
       "  'Robert De Niro, Oakes Fegley, Uma Thurman'],\n",
       " ['Monster Hunter ',\n",
       "  103,\n",
       "  38,\n",
       "  'Fantástico',\n",
       "  'Paul W.S. Anderson',\n",
       "  4.4,\n",
       "  2121,\n",
       "  'Milla Jovovich, Tony Jaa, Tip Harris'],\n",
       " ['Tom y Jerry ',\n",
       "  101,\n",
       "  39,\n",
       "  'Animación',\n",
       "  'Tim Story',\n",
       "  4.4,\n",
       "  448,\n",
       "  'Chloë Grace Moretz, Michael Peña, Rob Delaney'],\n",
       " ['Ruega por nosotros ',\n",
       "  99,\n",
       "  40,\n",
       "  'Terror',\n",
       "  'Evan Spiliotopoulos',\n",
       "  4.4,\n",
       "  363,\n",
       "  'Jeffrey Dean Morgan, Cricket Brown, Cary Elwes']]"
      ]
     },
     "execution_count": 61,
     "metadata": {},
     "output_type": "execute_result"
    }
   ],
   "source": [
    "filas = list()\n",
    "for i in range(len(soup.find_all(\"div\", class_=\"movie-card mc-flex movie-card-22\"))):\n",
    "    titulo=pelis[i].find(\"a\")[\"title\"]\n",
    "    duracion=int(pelis[i].find_all(\"div\", class_=\"duration\")[0].text.replace(\"min.\",\"\").strip())\n",
    "    posicion=int(pelis[i].find_all(\"div\", class_=\"pos\")[0].text)\n",
    "    categoria=pelis[i].find_all(\"a\", class_=\"genre\")[0].text\n",
    "    director=pelis[i].find_all(\"div\", class_=\"credits\")[0].text\n",
    "    puntuacion=float(pelis[i].find_all(\"div\", class_=\"avg-rating\")[0].text.replace(\",\",\".\"))\n",
    "    num_vot=int(pelis[i].find_all(\"div\", class_=\"rat-count\")[0].text.strip().replace(\".\",\"\"))\n",
    "    try:\n",
    "        casting=casting=pelis[i].find_all(\"div\", class_=\"credits\")[1].text\n",
    "    except:\n",
    "        casting=np.nan\n",
    "    filas.append([titulo,duracion,posicion,categoria,director,puntuacion,num_vot, casting])\n",
    "    print(filas[i])\n",
    "filas\n"
   ]
  },
  {
   "cell_type": "code",
   "execution_count": 62,
   "metadata": {},
   "outputs": [
    {
     "data": {
      "text/html": [
       "<div>\n",
       "<style scoped>\n",
       "    .dataframe tbody tr th:only-of-type {\n",
       "        vertical-align: middle;\n",
       "    }\n",
       "\n",
       "    .dataframe tbody tr th {\n",
       "        vertical-align: top;\n",
       "    }\n",
       "\n",
       "    .dataframe thead th {\n",
       "        text-align: right;\n",
       "    }\n",
       "</style>\n",
       "<table border=\"1\" class=\"dataframe\">\n",
       "  <thead>\n",
       "    <tr style=\"text-align: right;\">\n",
       "      <th></th>\n",
       "      <th>Titulo</th>\n",
       "      <th>Duracion (min)</th>\n",
       "      <th>Posicion</th>\n",
       "      <th>Categoria</th>\n",
       "      <th>Director</th>\n",
       "      <th>Puntuación</th>\n",
       "      <th>Num_votos</th>\n",
       "      <th>Casting</th>\n",
       "    </tr>\n",
       "  </thead>\n",
       "  <tbody>\n",
       "    <tr>\n",
       "      <th>0</th>\n",
       "      <td>El señor de los anillos: La comunidad del anillo</td>\n",
       "      <td>180</td>\n",
       "      <td>1</td>\n",
       "      <td>Fantástico</td>\n",
       "      <td>Peter Jackson</td>\n",
       "      <td>8.0</td>\n",
       "      <td>188636</td>\n",
       "      <td>Elijah Wood, Ian McKellen, Viggo Mortensen</td>\n",
       "    </tr>\n",
       "    <tr>\n",
       "      <th>1</th>\n",
       "      <td>El padre</td>\n",
       "      <td>97</td>\n",
       "      <td>2</td>\n",
       "      <td>Drama</td>\n",
       "      <td>Florian Zeller</td>\n",
       "      <td>7.8</td>\n",
       "      <td>6514</td>\n",
       "      <td>Anthony Hopkins, Olivia Colman, Imogen Poots</td>\n",
       "    </tr>\n",
       "    <tr>\n",
       "      <th>2</th>\n",
       "      <td>Charulata. La esposa solitaria</td>\n",
       "      <td>124</td>\n",
       "      <td>3</td>\n",
       "      <td>Drama</td>\n",
       "      <td>Satyajit Ray</td>\n",
       "      <td>7.6</td>\n",
       "      <td>499</td>\n",
       "      <td>Madhabi Mukherjee, Sailen Mukherjee, Soumitra ...</td>\n",
       "    </tr>\n",
       "    <tr>\n",
       "      <th>3</th>\n",
       "      <td>Guardianes de la noche: Tren infinito</td>\n",
       "      <td>117</td>\n",
       "      <td>4</td>\n",
       "      <td>Animación</td>\n",
       "      <td>Haruo Sotozaki</td>\n",
       "      <td>7.6</td>\n",
       "      <td>698</td>\n",
       "      <td>NaN</td>\n",
       "    </tr>\n",
       "    <tr>\n",
       "      <th>4</th>\n",
       "      <td>Digimon Adventure: Last Evolution Kizuna</td>\n",
       "      <td>95</td>\n",
       "      <td>5</td>\n",
       "      <td>Animación</td>\n",
       "      <td>Tomohisa Taguchi</td>\n",
       "      <td>7.3</td>\n",
       "      <td>325</td>\n",
       "      <td>NaN</td>\n",
       "    </tr>\n",
       "  </tbody>\n",
       "</table>\n",
       "</div>"
      ],
      "text/plain": [
       "                                              Titulo  Duracion (min)  \\\n",
       "0  El señor de los anillos: La comunidad del anillo              180   \n",
       "1                                          El padre               97   \n",
       "2                    Charulata. La esposa solitaria              124   \n",
       "3             Guardianes de la noche: Tren infinito              117   \n",
       "4          Digimon Adventure: Last Evolution Kizuna               95   \n",
       "\n",
       "   Posicion   Categoria          Director  Puntuación  Num_votos  \\\n",
       "0         1  Fantástico     Peter Jackson         8.0     188636   \n",
       "1         2       Drama    Florian Zeller         7.8       6514   \n",
       "2         3       Drama      Satyajit Ray         7.6        499   \n",
       "3         4   Animación    Haruo Sotozaki         7.6        698   \n",
       "4         5   Animación  Tomohisa Taguchi         7.3        325   \n",
       "\n",
       "                                             Casting  \n",
       "0         Elijah Wood, Ian McKellen, Viggo Mortensen  \n",
       "1       Anthony Hopkins, Olivia Colman, Imogen Poots  \n",
       "2  Madhabi Mukherjee, Sailen Mukherjee, Soumitra ...  \n",
       "3                                                NaN  \n",
       "4                                                NaN  "
      ]
     },
     "execution_count": 62,
     "metadata": {},
     "output_type": "execute_result"
    }
   ],
   "source": [
    "df = pd.DataFrame(filas, columns = [\"Titulo\",\"Duracion (min)\",\"Posicion\",\"Categoria\",\"Director\",\"Puntuación\",\"Num_votos\",\"Casting\"])\n",
    "df.head()"
   ]
  },
  {
   "cell_type": "code",
   "execution_count": 63,
   "metadata": {},
   "outputs": [
    {
     "name": "stdout",
     "output_type": "stream",
     "text": [
      "<class 'pandas.core.frame.DataFrame'>\n",
      "RangeIndex: 40 entries, 0 to 39\n",
      "Data columns (total 8 columns):\n",
      " #   Column          Non-Null Count  Dtype  \n",
      "---  ------          --------------  -----  \n",
      " 0   Titulo          40 non-null     object \n",
      " 1   Duracion (min)  40 non-null     int64  \n",
      " 2   Posicion        40 non-null     int64  \n",
      " 3   Categoria       40 non-null     object \n",
      " 4   Director        40 non-null     object \n",
      " 5   Puntuación      40 non-null     float64\n",
      " 6   Num_votos       40 non-null     int64  \n",
      " 7   Casting         34 non-null     object \n",
      "dtypes: float64(1), int64(3), object(4)\n",
      "memory usage: 2.6+ KB\n"
     ]
    }
   ],
   "source": [
    "df.info()"
   ]
  },
  {
   "cell_type": "code",
   "execution_count": 64,
   "metadata": {},
   "outputs": [
    {
     "data": {
      "text/html": [
       "<div>\n",
       "<style scoped>\n",
       "    .dataframe tbody tr th:only-of-type {\n",
       "        vertical-align: middle;\n",
       "    }\n",
       "\n",
       "    .dataframe tbody tr th {\n",
       "        vertical-align: top;\n",
       "    }\n",
       "\n",
       "    .dataframe thead th {\n",
       "        text-align: right;\n",
       "    }\n",
       "</style>\n",
       "<table border=\"1\" class=\"dataframe\">\n",
       "  <thead>\n",
       "    <tr style=\"text-align: right;\">\n",
       "      <th></th>\n",
       "      <th>Duracion (min)</th>\n",
       "      <th>Posicion</th>\n",
       "      <th>Puntuación</th>\n",
       "      <th>Num_votos</th>\n",
       "    </tr>\n",
       "  </thead>\n",
       "  <tbody>\n",
       "    <tr>\n",
       "      <th>count</th>\n",
       "      <td>40.000000</td>\n",
       "      <td>40.000000</td>\n",
       "      <td>40.000000</td>\n",
       "      <td>40.000000</td>\n",
       "    </tr>\n",
       "    <tr>\n",
       "      <th>mean</th>\n",
       "      <td>106.375000</td>\n",
       "      <td>20.500000</td>\n",
       "      <td>6.172500</td>\n",
       "      <td>7033.075000</td>\n",
       "    </tr>\n",
       "    <tr>\n",
       "      <th>std</th>\n",
       "      <td>17.626739</td>\n",
       "      <td>11.690452</td>\n",
       "      <td>1.013242</td>\n",
       "      <td>29614.561933</td>\n",
       "    </tr>\n",
       "    <tr>\n",
       "      <th>min</th>\n",
       "      <td>82.000000</td>\n",
       "      <td>1.000000</td>\n",
       "      <td>4.400000</td>\n",
       "      <td>58.000000</td>\n",
       "    </tr>\n",
       "    <tr>\n",
       "      <th>25%</th>\n",
       "      <td>94.750000</td>\n",
       "      <td>10.750000</td>\n",
       "      <td>5.475000</td>\n",
       "      <td>202.250000</td>\n",
       "    </tr>\n",
       "    <tr>\n",
       "      <th>50%</th>\n",
       "      <td>104.500000</td>\n",
       "      <td>20.500000</td>\n",
       "      <td>6.350000</td>\n",
       "      <td>656.000000</td>\n",
       "    </tr>\n",
       "    <tr>\n",
       "      <th>75%</th>\n",
       "      <td>115.250000</td>\n",
       "      <td>30.250000</td>\n",
       "      <td>6.900000</td>\n",
       "      <td>4263.500000</td>\n",
       "    </tr>\n",
       "    <tr>\n",
       "      <th>max</th>\n",
       "      <td>180.000000</td>\n",
       "      <td>40.000000</td>\n",
       "      <td>8.000000</td>\n",
       "      <td>188636.000000</td>\n",
       "    </tr>\n",
       "  </tbody>\n",
       "</table>\n",
       "</div>"
      ],
      "text/plain": [
       "       Duracion (min)   Posicion  Puntuación      Num_votos\n",
       "count       40.000000  40.000000   40.000000      40.000000\n",
       "mean       106.375000  20.500000    6.172500    7033.075000\n",
       "std         17.626739  11.690452    1.013242   29614.561933\n",
       "min         82.000000   1.000000    4.400000      58.000000\n",
       "25%         94.750000  10.750000    5.475000     202.250000\n",
       "50%        104.500000  20.500000    6.350000     656.000000\n",
       "75%        115.250000  30.250000    6.900000    4263.500000\n",
       "max        180.000000  40.000000    8.000000  188636.000000"
      ]
     },
     "execution_count": 64,
     "metadata": {},
     "output_type": "execute_result"
    }
   ],
   "source": [
    "df.describe()"
   ]
  }
 ],
 "metadata": {
  "kernelspec": {
   "display_name": "Python 3",
   "language": "python",
   "name": "python3"
  },
  "language_info": {
   "codemirror_mode": {
    "name": "ipython",
    "version": 3
   },
   "file_extension": ".py",
   "mimetype": "text/x-python",
   "name": "python",
   "nbconvert_exporter": "python",
   "pygments_lexer": "ipython3",
   "version": "3.8.5"
  }
 },
 "nbformat": 4,
 "nbformat_minor": 4
}
